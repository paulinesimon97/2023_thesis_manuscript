{
 "cells": [
  {
   "cell_type": "markdown",
   "metadata": {},
   "source": [
    "## Modules"
   ]
  },
  {
   "cell_type": "code",
   "execution_count": 1,
   "metadata": {},
   "outputs": [],
   "source": [
    "# Modules\n",
    "import sys\n",
    "sys.path.append(\"/home/simon/Documents/REPO/Exact_laws\")\n",
    "sys.path.append(\"/home/simon/Documents/REPO/Simu/Rapport_simu_exactlaw/notebook\")\n",
    "\n",
    "from exact_laws.preprocessing.process_on_standard_h5_file import describ_file\n",
    "from visualisation_tools import *\n",
    "from exact_laws.mathematical_tools.derivation import cdiff\n",
    "\n",
    "import os\n",
    "from matplotlib import ticker, rc\n",
    "from matplotlib import gridspec\n",
    "import numpy as np\n",
    "import json"
   ]
  },
  {
   "cell_type": "code",
   "execution_count": 2,
   "metadata": {},
   "outputs": [],
   "source": [
    "# Matplotlib config\n",
    "import matplotlib\n",
    "%matplotlib qt5\n",
    "plt.rcParams['text.usetex'] = True\n",
    "matplotlib.rc('text.latex', preamble=r'\\usepackage{amsmath}')\n",
    "rc('xtick', labelsize=15) \n",
    "rc('ytick', labelsize=15) \n",
    "rc('font', size=18)\n",
    "\n",
    "numfig = 0"
   ]
  },
  {
   "cell_type": "markdown",
   "metadata": {},
   "source": [
    "## Informations et données"
   ]
  },
  {
   "cell_type": "code",
   "execution_count": 3,
   "metadata": {},
   "outputs": [
    {
     "name": "stdout",
     "output_type": "stream",
     "text": [
      "{'original_folder': '/home/simon/Documents/DATA/SIMULATIONS/OCA/data_simus_oca/CGL5/CGL5_12905/', 'cycle': 'cycle_0', 'group_grid': '3Dgrid', 'N': [512, 512, 1024], 'kdi': 0.14705882352941177, 'theta': 1.309017176581171, 'thrsh_forc_hi': 0.016, 'thrsh_forc_lo': 0.015, 'a1_forc': 0.5, 'act_forc': True, 'nu': 3e-11, 'eta': 3e-11, 'hdiss_rho': 0, 'hdiss_p': 3e-12, 'an_hd': 6, 'ap0': 1, 'B0': [0, 0, 1], 'beta0': 1, 'name': 'CGL5.12905.000', 'EL_red1D': ['/home/simon/Documents/DATA/SIMULATIONS/OCA/runs/CGL5.12905.0/OCA_CGL5.12905.0_alli_EL_lincart_all_red1D.h5', '/home/simon/Documents/DATA/SIMULATIONS/OCA/runs/CGL5.12905.0/OCA_CGL5.12905.0_alleq_EL_lincart_all_red1D.h5', '/home/simon/Documents/DATA/SIMULATIONS/OCA/runs/CGL5.12905.0/OCA_CGL5.12905.0_allkhm_EL_lincart_all_red1D.h5'], 'EL_red2D': ['/home/simon/Documents/DATA/SIMULATIONS/OCA/runs/CGL5.12905.0/OCA_CGL5.12905.0_alli_EL_lincart_all_red2D.h5', '/home/simon/Documents/DATA/SIMULATIONS/OCA/runs/CGL5.12905.0/OCA_CGL5.12905.0_alleq_EL_lincart_all_red2D.h5', '/home/simon/Documents/DATA/SIMULATIONS/OCA/runs/CGL5.12905.0/OCA_CGL5.12905.0_allkhm_EL_lincart_all_red2D.h5']}\n"
     ]
    }
   ],
   "source": [
    "simu_name = 'CGL5'\n",
    "with open(\"/home/simon/Documents/REPO/Simu/descript_oca_simu.json\",\"r\") as f:\n",
    "    simus = json.load(f)[simu_name]\n",
    "#del(simus['10600'],simus['12500'],simus['12785'],simus['12800'],simus['12815'],)\n",
    "times = list(simus.keys())\n",
    "for t in times : \n",
    "    if not '12905.' in t: del(simus[t])\n",
    "times = list(simus.keys())\n",
    "simus_name= 'CGL5.12905'\n",
    "print(simus[times[0]])"
   ]
  },
  {
   "cell_type": "code",
   "execution_count": 4,
   "metadata": {},
   "outputs": [],
   "source": [
    "# Paths \n",
    "path_record_images = f\"./images_{simu_name}/\"\n",
    "if not os.path.exists(path_record_images) : os.mkdir(path_record_images)"
   ]
  },
  {
   "cell_type": "code",
   "execution_count": 5,
   "metadata": {},
   "outputs": [
    {
     "name": "stdout",
     "output_type": "stream",
     "text": [
      "[[ 42.72566009 159.4672431 ]\n",
      " [ 30.21160398 159.4672431 ]]\n"
     ]
    }
   ],
   "source": [
    "# Paramètres\n",
    "simu = f\"{simu_name}\"\n",
    "kdi = simus[times[0]]['kdi'] # kperpdi = 2pidi/l => l/di = 2pi/(kdi)\n",
    "theta = simus[times[0]]['theta']\n",
    "lforc = np.array([(2*np.pi/kdi, 2*np.pi/kdi*np.tan(theta)),(2*np.pi/kdi/np.sqrt(2), 2*np.pi/kdi*np.tan(theta))]) # (lperp/di, lpar/di)\n",
    "linert = (1,1)\n",
    "print(lforc)"
   ]
  },
  {
   "cell_type": "code",
   "execution_count": 6,
   "metadata": {},
   "outputs": [
    {
     "name": "stdout",
     "output_type": "stream",
     "text": [
      "0.15572972958615028 0.31145945917230056 79.57789181852279\n",
      "0.08344855486097888 0.16689710972195776 21.279381489549614\n",
      "0.08344855486097888 21.279381489549614\n"
     ]
    }
   ],
   "source": [
    "# Grille\n",
    "grid = read_grid_in_h5file(simus[times[0]]['EL_red2D'][0])\n",
    "c = grid['c']\n",
    "axe_par = np.array(grid['lpar'])*grid['c'][2]\n",
    "axe_perp = np.array(grid['lperp'])#*grid['c'][0]\n",
    "label_par = \"$\\ell_{\\parallel} / d_i$\"\n",
    "label_perp = \"$\\ell_{\\perp}/ d_i$\"\n",
    "del(grid)\n",
    "grid = read_grid_in_h5file(simus[times[0]]['EL_red1D'][0])\n",
    "axe_l = np.array(grid['l'])\n",
    "label_l = \"$\\ell / d_i$\"\n",
    "print(axe_par[1],axe_par[2],max(axe_par))\n",
    "print(axe_perp[1],axe_perp[2],max(axe_perp))\n",
    "print(axe_l[1],max(axe_l))"
   ]
  },
  {
   "cell_type": "code",
   "execution_count": 7,
   "metadata": {},
   "outputs": [],
   "source": [
    "gridlp, gridlpar = np.meshgrid(axe_perp,axe_par, indexing='ij')\n",
    "filt_45 = np.arctan(gridlpar/np.where(gridlp==0,1e-19,gridlp))*180/np.pi\n",
    "filt_45inf = np.where(filt_45<=45,1,np.nan)\n",
    "filt_45sup = np.where(filt_45>=45,1,np.nan)\n",
    "filt_45b = np.arctan(gridlpar/np.where(gridlp==0,1e-19,gridlp))\n",
    "filt_45binf = np.where(filt_45b<=theta,1,np.nan)\n",
    "filt_45bsup = np.where(filt_45b>=theta,1,np.nan)\n",
    "filt_perp10pc = np.where(gridlp<=lforc[1,0]*0.1,1,np.nan)\n",
    "filt_par10pc = np.where(gridlpar<=lforc[1,1]*0.1,1,np.nan)\n",
    "del(gridlp,gridlpar)"
   ]
  },
  {
   "cell_type": "code",
   "execution_count": 8,
   "metadata": {},
   "outputs": [],
   "source": [
    "# liste des temps\n",
    "dict_temps = {}\n",
    "for t in times : \n",
    "    if '_R' in t : \n",
    "        dict_temps[t] = eval(t[:-2])\n",
    "    else : \n",
    "        dict_temps[t] = eval(t)\n",
    "temps =  sorted(dict_temps.items(), key=lambda t: t[1])\n",
    "dt = temps[1][1] - temps[0][1]"
   ]
  },
  {
   "cell_type": "markdown",
   "metadata": {},
   "source": [
    "## Lecture et assemblage de lois exactes"
   ]
  },
  {
   "cell_type": "code",
   "execution_count": 9,
   "metadata": {},
   "outputs": [],
   "source": [
    "# Lecture fichiers et corrections\n",
    "dict_quantities = {}\n",
    "dict_quantities1D = {}\n",
    "dict_coeffs = {}\n",
    "quantities = {} \n",
    "quantities1D = {}  \n",
    "coeffs = {}\n",
    "\n",
    "for it,t in enumerate(simus.keys()):\n",
    "    dict_quantities[t] = {}\n",
    "    dict_coeffs[t] = {}\n",
    "    for fstr in simus[t]['EL_red2D']:\n",
    "        dqs, _, dcs = readfile(fstr)\n",
    "        for k in dqs.keys():\n",
    "            dict_quantities[t][k] = dqs[k] \n",
    "        for k in dcs.keys():\n",
    "            dict_coeffs[t][k] = dcs[k]\n",
    "            if \"source_rbdd\" in k:\n",
    "                dict_coeffs[t][k] = -np.abs(dcs[k])\n",
    "            if \"ue\" in k and not 'KHM' in k :\n",
    "                dict_coeffs[t][k] = -np.abs(dcs[k])*1836\n",
    "    dict_coeffs[t]['COR_dt_cor_rvv'] = 1\n",
    "    dict_coeffs[t]['COR_dt_cor_rbb'] = 1\n",
    "    dict_coeffs[t]['COR_dt_cor_ru'] = 1\n",
    "    dict_coeffs[t]['COR_dt_cor_rue'] = 1836\n",
    "    dict_coeffs[t]['ICOR_dt_cor_vv'] = 1\n",
    "    dict_coeffs[t]['ICOR_dt_cor_bb'] = 1\n",
    "    \n",
    "    dict_quantities1D[t] = {}\n",
    "    for fstr in simus[t]['EL_red1D']:\n",
    "        dqs, _, dcs = readfile(fstr)\n",
    "        for k in dqs.keys():\n",
    "            dict_quantities1D[t][k] = dqs[k] \n",
    "for q in dict_quantities[times[-1]].keys():\n",
    "    quantities[q] = np.mean(np.array([dict_quantities[t][q] for t in simus.keys() if q in dict_quantities[t].keys()]),axis=0)\n",
    "for q in dict_quantities1D[times[-1]].keys():\n",
    "    quantities1D[q] = np.mean(np.array([dict_quantities1D[t][q] for t in simus.keys() if q in dict_quantities[t].keys()]),axis=0)\n",
    "for q in dict_coeffs[times[-1]].keys():\n",
    "    coeffs[q] = dict_coeffs[times[-1]][q]\n"
   ]
  },
  {
   "cell_type": "code",
   "execution_count": 10,
   "metadata": {},
   "outputs": [
    {
     "name": "stdout",
     "output_type": "stream",
     "text": [
      "1.978280450430888e-05 1.97553844654088e-05 1.97553844654088e-05\n"
     ]
    }
   ],
   "source": [
    "# dt des quantitées\n",
    "quantities_name = [k for k in quantities if k.startswith('cor_')]\n",
    "for q in quantities_name:\n",
    "    tab = []\n",
    "    for t in temps: \n",
    "        tab.append(dict_quantities[t[0]][q])\n",
    "    dt_tab = cdiff(tab, length_case=dt, dirr=0, precision=2, period=False, point=False)\n",
    "    for i in range(len(temps)):\n",
    "        dict_quantities[temps[i][0]]['dt_'+q] = dt_tab[i]\n",
    "    quantities['dt_'+q] = np.mean(dt_tab[1:-1],axis=0)\n",
    "\n",
    "# dt des quantitées\n",
    "quantities_name = [k for k in quantities1D if k.startswith('cor_')]\n",
    "for q in quantities_name:\n",
    "    tab = []\n",
    "    for t in temps: \n",
    "        tab.append(dict_quantities1D[t[0]][q])\n",
    "    dt_tab = cdiff(tab, length_case=dt, dirr=0, precision=2, period=False, point=False)\n",
    "    if q == 'cor_rvv': print(dt_tab[0][0],dt_tab[1][0],dt_tab[1][0])\n",
    "    for i in range(len(temps)):\n",
    "        dict_quantities1D[temps[i][0]]['dt_'+q] = dt_tab[i]\n",
    "    quantities1D['dt_'+q] = np.mean(dt_tab,axis=0)"
   ]
  },
  {
   "cell_type": "code",
   "execution_count": 11,
   "metadata": {},
   "outputs": [
    {
     "name": "stdout",
     "output_type": "stream",
     "text": [
      "['SS22Iso_div_flux_drbdbdv', 'SS22Iso_div_flux_drbdvdb', 'SS22Iso_div_flux_drdpisodv', 'SS22Iso_div_flux_drdpmdv', 'SS22Iso_div_flux_drduisodv', 'SS22Iso_div_flux_drvdbdb', 'SS22Iso_div_flux_drvdvdv', 'SS22Iso_source_bdrbdv', 'SS22Iso_source_bdrvdb', 'SS22Iso_source_pisovdrdr', 'SS22Iso_source_pmvdrdr', 'SS22Iso_source_rbdbdv', 'SS22Iso_source_rbdvdb', 'SS22Iso_source_rdpisodv', 'SS22Iso_source_rduisodv', 'SS22Iso_source_rvdbdb', 'SS22Iso_source_rvdpisodr', 'SS22Iso_source_rvdpmdr', 'SS22Iso_source_rvdvdv']\n"
     ]
    }
   ],
   "source": [
    "# Combinaisons de termes\n",
    "dic_of_list_terms = {}\n",
    "dic_of_list_terms['ELcgl'] = [k for k in coeffs if k.startswith('SS22Gyr')]\n",
    "dic_of_list_terms['ELiso'] = [k for k in coeffs if k.startswith('SS22Iso')]\n",
    "print(dic_of_list_terms['ELiso'])\n",
    "dic_of_list_terms['ELelec']  =  ['SS22Elec_div_flux_drduedv','SS22Elec_div_flux_drdpedv',\n",
    "                               'SS22Elec_source_pevdrdr','SS22Elec_source_rdpedv',\n",
    "                               'SS22Elec_source_rduedv','SS22Elec_source_rvdpedr']\n",
    "dic_of_list_terms['ELhall'] = [k for k in coeffs if k.startswith('Hallcor')]\n",
    "dic_of_list_terms['EL'] = dic_of_list_terms['ELcgl'] + dic_of_list_terms['ELelec'] + dic_of_list_terms['ELhall']\n",
    "dic_of_list_terms['ELIso'] = dic_of_list_terms['ELiso'] + dic_of_list_terms['ELelec'] + dic_of_list_terms['ELhall']\n",
    "dic_of_list_terms['dtR'] = [k for k in coeffs if k.startswith('COR_dt')]\n",
    "dic_of_list_terms['khm'] = [k for k in coeffs if k.startswith('SS22KHM')]\n",
    "dic_of_list_terms['ELcgl_flux'] = ['SS22Gyr_div_flux_drdpperpdv','SS22Gyr_div_flux_drdpandv',]\n",
    "dic_of_list_terms['ELcgl_sdv'] = ['SS22Gyr_source_rdpandv', 'SS22Gyr_source_rdpperpdv',]\n",
    "dic_of_list_terms['ELcgl_sdp'] = ['SS22Gyr_source_rvdpperpdr','SS22Gyr_source_rvdpandr',]\n",
    "dic_of_list_terms['ELcgl_sdr'] = ['SS22Gyr_source_panvdrdr','SS22Gyr_source_pperpvdrdr',]\n",
    "dic_of_list_terms['ELiso_flux'] = ['SS22Iso_div_flux_drdpisodv',]\n",
    "dic_of_list_terms['ELiso_sdv'] = ['SS22Iso_source_rdpisodv',]\n",
    "dic_of_list_terms['ELiso_sdp'] = ['SS22Iso_source_rvdpisodr',]\n",
    "dic_of_list_terms['ELiso_sdr'] = ['SS22Iso_source_pisovdrdr',]"
   ]
  },
  {
   "cell_type": "code",
   "execution_count": 12,
   "metadata": {},
   "outputs": [],
   "source": [
    "zeta = (-linear_op_from_list_term(coeffs,quantities,dic_of_list_terms['dtR']) \n",
    "        + linear_op_from_list_term(coeffs,quantities,dic_of_list_terms['khm']) \n",
    "        -linear_op_from_list_term(coeffs,quantities,dic_of_list_terms['EL']))"
   ]
  },
  {
   "cell_type": "code",
   "execution_count": 13,
   "metadata": {},
   "outputs": [],
   "source": [
    "plt.figure('M2', figsize=(8,4))\n",
    "plt.clf()\n",
    "\n",
    "y1 = linear_op_from_list_term(coeffs,quantities,dic_of_list_terms['EL'])\n",
    "y2 = linear_op_from_list_term(coeffs,quantities,dic_of_list_terms['ELIso'])\n",
    "splot(axe_perp[1:],np.nanmean((y1-y2)*filt_45binf,axis=1)[1:],label = '$\\\\varepsilon_{\\overline{\\\\boldsymbol{\\\\Pi}}}$') \n",
    "\n",
    "splot(axe_perp[1:],np.nanmean(np.abs(zeta)*filt_45binf,axis=1)[1:],label = '$\\\\zeta$',color = 'grey')\n",
    "plt.fill_between(axe_perp[1:],np.nanmean(np.abs(zeta)*filt_45binf,axis=1)[1:],color = 'grey', alpha = 0.3)\n",
    "\n",
    "y1 = linear_op_from_list_term(coeffs,quantities,dic_of_list_terms['ELcgl_flux'])\n",
    "y2 = linear_op_from_list_term(coeffs,quantities,dic_of_list_terms['ELiso_flux'])\n",
    "splot(axe_perp[1:],np.nanmean((y1-y2)*filt_45binf,axis=1)[1:],label = '$\\\\nabla_{\\\\ell} \\cdot \\\\mathbf{\\mathcal{F}}_{A}$') \n",
    "\n",
    "y1 = linear_op_from_list_term(coeffs,quantities,dic_of_list_terms['ELcgl_sdv'])\n",
    "y2 = linear_op_from_list_term(coeffs,quantities,dic_of_list_terms['ELiso_sdv'])\n",
    "splot(axe_perp[1:],np.nanmean((y1-y2)*filt_45binf,axis=1)[1:],label = '$\\mathcal{S}_{A1}$') \n",
    "\n",
    "y1 = linear_op_from_list_term(coeffs,quantities,dic_of_list_terms['ELcgl_sdp'])\n",
    "y2 = linear_op_from_list_term(coeffs,quantities,dic_of_list_terms['ELiso_sdp'])\n",
    "splot(axe_perp[1:],np.nanmean((y1-y2)*filt_45binf,axis=1)[1:],label = '$\\mathcal{S}_{A2}$') \n",
    "\n",
    "y1 = linear_op_from_list_term(coeffs,quantities,dic_of_list_terms['ELcgl_sdr'])\n",
    "y2 = linear_op_from_list_term(coeffs,quantities,dic_of_list_terms['ELiso_sdr'])\n",
    "splot(axe_perp[1:],np.nanmean((y1-y2)*filt_45binf,axis=1)[1:],label = '$\\mathcal{S}_{A3}$') \n",
    "\n",
    "plt.xscale('log')\n",
    "plt.yscale('log')\n",
    "plt.xlim(axe_perp[1],axe_perp[-1])\n",
    "plt.ylim(1e-11,1e-5)\n",
    "#plt.ylim(1e-2,1e2)\n",
    "plt.ylabel('CGL5')\n",
    "plt.xlabel('$\\ell_{\\\\perp}/d_i$')\n",
    "plt.legend(ncol=3,loc='lower left',columnspacing=0.4,labelspacing = 0.2,borderpad=0.2)\n",
    "plt.tight_layout()\n",
    "plt.show()"
   ]
  },
  {
   "cell_type": "code",
   "execution_count": 15,
   "metadata": {},
   "outputs": [
    {
     "name": "stderr",
     "output_type": "stream",
     "text": [
      "/tmp/ipykernel_12741/93502956.py:7: UserWarning: Attempted to set non-positive left xlim on a log-scaled axis.\n",
      "Invalid limit will be ignored.\n",
      "  plt.clf()\n",
      "/tmp/ipykernel_12741/93502956.py:7: UserWarning: Attempted to set non-positive bottom ylim on a log-scaled axis.\n",
      "Invalid limit will be ignored.\n",
      "  plt.clf()\n",
      "/tmp/ipykernel_12741/93502956.py:23: UserWarning: The following kwargs were not used by contour: 'clim'\n",
      "  contours = ax1.contour(X,Y,np.transpose(Z),[-100,-80,-60,-40,-20,-10,0,10,20,40,60,80,100],clim=(-100.0, 100.0),cmap='Spectral',vmin = -100, vmax=100)\n",
      "/tmp/ipykernel_12741/93502956.py:34: RuntimeWarning: Mean of empty slice\n",
      "  subsplot(ax0,axe_par[1:],np.nanmean(ELcgl*filt_45bsup,axis=0)[1:],label = '$\\\\varepsilon_{cgl}$',orientation = 'inverse')\n",
      "/tmp/ipykernel_12741/93502956.py:35: RuntimeWarning: Mean of empty slice\n",
      "  subsplot(ax0,axe_par[1:],np.nanmean(ELiso*filt_45bsup,axis=0)[1:],label = '$\\\\varepsilon_{iso}$',orientation = 'inverse')\n",
      "/tmp/ipykernel_12741/93502956.py:36: RuntimeWarning: Mean of empty slice\n",
      "  subsplot(ax0,axe_par[1:],np.nanmean((ELcgl-ELiso)*filt_45bsup,axis=0)[1:],label = '$\\\\varepsilon_{\\overline{\\\\boldsymbol{\\\\Pi}}}$',orientation = 'inverse')\n",
      "/tmp/ipykernel_12741/93502956.py:37: RuntimeWarning: Mean of empty slice\n",
      "  subsplot(ax0,axe_par[1:],np.nanmean(np.abs(zeta)*filt_45bsup,axis=0)[1:],label = '$\\\\zeta$',color = 'grey',orientation = 'inverse')\n",
      "/tmp/ipykernel_12741/93502956.py:38: RuntimeWarning: Mean of empty slice\n",
      "  plt.fill_betweenx(axe_par[1:],0,np.nanmean(np.abs(zeta)*filt_45bsup,axis=0)[1:],color = 'grey', alpha = 0.3)\n"
     ]
    }
   ],
   "source": [
    "X,Y = np.meshgrid(axe_perp,axe_par)\n",
    "ELcgl = linear_op_from_list_term(coeffs,quantities,dic_of_list_terms['EL'])\n",
    "ELiso = linear_op_from_list_term(coeffs,quantities,dic_of_list_terms['ELIso'])\n",
    "Z = (ELcgl-ELiso)/np.abs(ELiso)*100\n",
    "\n",
    "fig = plt.figure('M5', figsize=(12,10))\n",
    "plt.clf()\n",
    "\n",
    "spec = gridspec.GridSpec(ncols=3, nrows=2,\n",
    "                         width_ratios=[0.7, 2,0.7], wspace=0,\n",
    "                         hspace=0, height_ratios=[2, 0.7])\n",
    "\n",
    "\n",
    "ax1 = plt.subplot(spec[1])\n",
    "ax1.set_title('CGL5')\n",
    "# colormap = ax1.pcolor(X,Y,np.transpose(Z), norm=colors.SymLogNorm(linthresh = 1e-8, vmin = - np.max(np.abs(Z)), vmax=np.max(np.abs(Z))),\n",
    "#                    cmap='Spectral_r', shading='auto')\n",
    "\n",
    "# contours = ax1.contour(X,Y,np.transpose(Z),10,cmap='Spectral',vmin = - np.max(Z), vmax=np.max(Z))\n",
    "colormap = ax1.pcolor(X,Y,np.transpose(Z), norm=colors.SymLogNorm(linthresh = 1e0, vmin = - np.max(np.abs(Z))/10000, vmax=np.max(np.abs(Z))/10000),\n",
    "                   cmap='Spectral_r', shading='auto')\n",
    "\n",
    "contours = ax1.contour(X,Y,np.transpose(Z),[-100,-80,-60,-40,-20,-10,0,10,20,40,60,80,100],clim=(-100.0, 100.0),cmap='Spectral',vmin = -100, vmax=100)\n",
    "\n",
    "\n",
    "ax1.plot(axe_perp[1:],axe_perp[1:]*np.tan(theta),'k-.',label='$\\\\theta = \\\\theta_i$')\n",
    "ax1.set_xscale('log')\n",
    "ax1.set_yscale('log')\n",
    "ax1.set_xlim(axe_perp[1],axe_perp[-1])\n",
    "ax1.set_ylim(axe_par[1],axe_par[-1])\n",
    "ax1.xaxis.set_tick_params(labelbottom=False)\n",
    "\n",
    "ax0 = plt.subplot(spec[0],sharey=ax1)\n",
    "subsplot(ax0,axe_par[1:],np.nanmean(ELcgl*filt_45bsup,axis=0)[1:],label = '$\\\\varepsilon_{cgl}$',orientation = 'inverse') \n",
    "subsplot(ax0,axe_par[1:],np.nanmean(ELiso*filt_45bsup,axis=0)[1:],label = '$\\\\varepsilon_{iso}$',orientation = 'inverse') \n",
    "subsplot(ax0,axe_par[1:],np.nanmean((ELcgl-ELiso)*filt_45bsup,axis=0)[1:],label = '$\\\\varepsilon_{\\overline{\\\\boldsymbol{\\\\Pi}}}$',orientation = 'inverse') \n",
    "subsplot(ax0,axe_par[1:],np.nanmean(np.abs(zeta)*filt_45bsup,axis=0)[1:],label = '$\\\\zeta$',color = 'grey',orientation = 'inverse')\n",
    "plt.fill_betweenx(axe_par[1:],0,np.nanmean(np.abs(zeta)*filt_45bsup,axis=0)[1:],color = 'grey', alpha = 0.3)\n",
    "ax0.plot([2,4],[4,5],'k-.',label='$\\\\theta = \\\\theta_i$')\n",
    "\n",
    "ax0.set_xscale('log')\n",
    "ax0.set_yscale('log')\n",
    "ax0.set_xlim(2e-8,5e-5)\n",
    "ax0.set_ylabel('$\\ell_{\\\\parallel}/d_i$')\n",
    "\n",
    "ax4 = plt.subplot(spec[4],sharex=ax1)\n",
    "subsplot(ax4,axe_perp[1:],np.nanmean(ELcgl*filt_45binf,axis=1)[1:],label = '$\\\\varepsilon_{cgl}$') \n",
    "subsplot(ax4,axe_perp[1:],np.nanmean(ELiso*filt_45binf,axis=1)[1:],label = '$\\\\varepsilon_{iso}$') \n",
    "subsplot(ax4,axe_perp[1:],np.nanmean((ELcgl-ELiso)*filt_45binf,axis=1)[1:],label = '$\\\\varepsilon_{\\overline{\\\\boldsymbol{\\\\Pi}}}$') \n",
    "subsplot(ax4,axe_perp[1:],np.nanmean(np.abs(zeta)*filt_45binf,axis=1)[1:],label = '$\\\\zeta$',color = 'grey')\n",
    "plt.fill_between(axe_perp[1:],np.nanmean(np.abs(zeta)*filt_45binf,axis=1)[1:],color = 'grey', alpha = 0.3)\n",
    "ax4.set_xscale('log')\n",
    "ax4.set_yscale('log')\n",
    "ax4.set_ylim(2e-8,5e-5)\n",
    "ax4.set_xlabel('$\\ell_{\\\\perp}/d_i$')\n",
    "\n",
    "ax2 = plt.subplot(spec[2])\n",
    "ax2.axis('off')\n",
    "\n",
    "\n",
    "\n",
    "cbar = fig.colorbar(contours,ax = [ax2,],location='left',anchor=(0.5,0),pad=0.5, fraction=1,) #\n",
    "cbar.formatter.set_powerlimits((0, 0))\n",
    "cbar.update_ticks()\n",
    "cbar2 = fig.colorbar(colormap,ax = [ax2,],location='right',label='$\\\\frac{\\\\varepsilon_{cgl} - \\\\varepsilon_{iso}}{|\\\\varepsilon_{iso}|}(\\%)$',anchor=(-0.6,0), fraction=1) #\n",
    "\n",
    "ax0.legend(bbox_to_anchor=(5.3, 0))\n",
    "plt.show()"
   ]
  }
 ],
 "metadata": {
  "kernelspec": {
   "display_name": "Python 3.10.6 ('venv')",
   "language": "python",
   "name": "python3"
  },
  "language_info": {
   "codemirror_mode": {
    "name": "ipython",
    "version": 3
   },
   "file_extension": ".py",
   "mimetype": "text/x-python",
   "name": "python",
   "nbconvert_exporter": "python",
   "pygments_lexer": "ipython3",
   "version": "3.10.6"
  },
  "orig_nbformat": 4,
  "vscode": {
   "interpreter": {
    "hash": "c53e085c35f321fddf126a644552d53df5dbec8a70ca5c68bab4eb2d1aa976f1"
   }
  }
 },
 "nbformat": 4,
 "nbformat_minor": 2
}
